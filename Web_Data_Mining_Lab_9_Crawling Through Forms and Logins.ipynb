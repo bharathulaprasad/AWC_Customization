{
  "nbformat": 4,
  "nbformat_minor": 0,
  "metadata": {
    "colab": {
      "name": "Web_Data_Mining_Lab_9.ipynb",
      "provenance": [],
      "include_colab_link": true
    },
    "kernelspec": {
      "name": "python3",
      "display_name": "Python 3"
    },
    "language_info": {
      "name": "python"
    }
  },
  "cells": [
    {
      "cell_type": "markdown",
      "metadata": {
        "id": "view-in-github",
        "colab_type": "text"
      },
      "source": [
        "<a href=\"https://colab.research.google.com/github/bharathulaprasad/AWC_Customization/blob/main/Web_Data_Mining_Lab_9_Crawling%20Through%20Forms%20and%20Logins.ipynb\" target=\"_parent\"><img src=\"https://colab.research.google.com/assets/colab-badge.svg\" alt=\"Open In Colab\"/></a>"
      ]
    },
    {
      "cell_type": "markdown",
      "source": [
        "#Crawling Through Forms and Logins\n",
        "\n",
        "##Submitting a Basic Form\n",
        "\n",
        "Website: https://pythonscraping.com/pages/files/form.html"
      ],
      "metadata": {
        "id": "ckgbBce7Q_3m"
      }
    },
    {
      "cell_type": "code",
      "execution_count": null,
      "metadata": {
        "id": "GSg0oE_2O_Eq"
      },
      "outputs": [],
      "source": [
        "<form method=\"post\" action=\"processing.php\">\n",
        "First name: <input type=\"text\" name=\"firstname\"><br>\n",
        "Last name: <input type=\"text\" name=\"lastname\"><br>\n",
        "<input type=\"submit\" value=\"Submit\" id=\"submit\">\n",
        "</form>"
      ]
    },
    {
      "cell_type": "markdown",
      "source": [
        "A couple of things to notice here: first, the names of the two input fields are firstname and lastname. This is important. The names of these fields determine the names of the variable parameters that will be POSTed to the server when the form is submitted. If you want to mimic the action that the form will take when POSTing your own data, you need to make sure that your variable names match up.\n",
        "\n",
        "The second thing to note is that the action of the form is at processing.php (the absolute path is https://pythonscraping.com/files/processing.php). Any POST requests to the form should be made on this page, not on the page that the form itself resides.\n",
        "\n",
        "Submitting a form with the Requests library is done below"
      ],
      "metadata": {
        "id": "-PhwKq4sR2rq"
      }
    },
    {
      "cell_type": "code",
      "source": [
        "import requests\n",
        "params={'firstname':'First','lastname':'Last'}\n",
        "r=requests.post('https://pythonscraping.com/pages/files/processing.php', params)\n",
        "print(r.text)"
      ],
      "metadata": {
        "colab": {
          "base_uri": "https://localhost:8080/"
        },
        "id": "lb5aftznSEzw",
        "outputId": "159b9afd-68ec-47ef-e1fb-ba0b4734cbff"
      },
      "execution_count": null,
      "outputs": [
        {
          "output_type": "stream",
          "name": "stdout",
          "text": [
            "Hello there, Firstsdsddf Last!\n"
          ]
        }
      ]
    },
    {
      "cell_type": "markdown",
      "source": [
        "Complicated forms\n",
        "\n",
        "For most cases, we have to look at name and action attribute\n",
        "\n",
        "Example"
      ],
      "metadata": {
        "id": "RWtIrjlSSxvi"
      }
    },
    {
      "cell_type": "code",
      "source": [
        "<form action=\"http://post.oreilly.com/client/o/oreilly/forms/\n",
        " quicksignup.cgi\" id=\"example_form2\" method=\"POST\">\n",
        " <input name=\"client_token\" type=\"hidden\" value=\"oreilly\" />\n",
        " <input name=\"subscribe\" type=\"hidden\" value=\"optin\" />\n",
        " <input name=\"success_url\" type=\"hidden\" value=\"http://oreilly.com/store/\n",
        " newsletter-thankyou.html\" />\n",
        " <input name=\"error_url\" type=\"hidden\" value=\"http://oreilly.com/store/\n",
        " newsletter-signup-error.html\" />\n",
        " <input name=\"topic_or_dod\" type=\"hidden\" value=\"1\" />\n",
        " <input name=\"source\" type=\"hidden\" value=\"orm-home-t1-dotd\" />\n",
        " <fieldset>\n",
        " <input class=\"email_address long\" maxlength=\"200\" name=\n",
        " \"email_addr\" size=\"25\" type=\"text\" value=\n",
        " \"Enter your email here\" />\n",
        " <button alt=\"Join\" class=\"skinny\" name=\"submit\" onclick=\n",
        " \"return addClickTracking('orm','ebook','rightrail','dod'\n",
        " );\" value=\"submit\">Join</button>\n",
        " </fieldset>\n",
        "</form>"
      ],
      "metadata": {
        "id": "cqvBK162UJD2"
      },
      "execution_count": null,
      "outputs": []
    },
    {
      "cell_type": "markdown",
      "source": [
        "Just the following will work for the above form"
      ],
      "metadata": {
        "id": "zlY--muDfBow"
      }
    },
    {
      "cell_type": "code",
      "source": [
        "import requests\n",
        "params = {'email_addr': 'ryan.e.mitchell@gmail.com'}\n",
        "r = requests.post(\"http://post.oreilly.com/client/o/oreilly/forms/quicksignup.cgi\",data=params)\n",
        "print(r.text)"
      ],
      "metadata": {
        "id": "fUml5zx0fEAV"
      },
      "execution_count": null,
      "outputs": []
    },
    {
      "cell_type": "markdown",
      "source": [
        "One way to track GET request is to look at URL of a website. It it says something like this\n",
        "\n",
        "http://domainname.com?thing1=foo&thing2=bar\n",
        "\n",
        "This corresponds to a form of this type"
      ],
      "metadata": {
        "id": "5pfneGI2UaDM"
      }
    },
    {
      "cell_type": "code",
      "source": [
        "<form method=\"GET\" action=\"someProcessor.php\">\n",
        "<input type=\"sometype\" name=\"thing1\" value=\"foo\"/>\n",
        "<input type=\"sometype\" name=\"thing2\" value=\"bar\"/>\n",
        "<input type=\"submit\" value=\"Submit\" />\n",
        "</form>"
      ],
      "metadata": {
        "id": "PwuDtrOWU1qY"
      },
      "execution_count": null,
      "outputs": []
    },
    {
      "cell_type": "markdown",
      "source": [
        "This also corresponds to a Python parameter object\n",
        "\n",
        "{'thing1':'foo', 'thing2':'bar'}"
      ],
      "metadata": {
        "id": "MQ3UUZW_VyBs"
      }
    },
    {
      "cell_type": "markdown",
      "source": [
        "#Radio Buttons, Checkboxes, and Other Inputs\n",
        "Obviously, not all web forms are a collection of text fields followed by a submit button. Standard HTML contains a wide variety of possible form input fields: radio buttons, checkboxes, and select boxes, to name a few. HTML5 adds sliders (range input fields), email, dates, and more. With custom JavaScript fields, the possibilities are endless, with color pickers, calendars, and whatever else the developers come up with next.\n",
        "\n",
        "Regardless of the seeming complexity of any sort of form field, you need to worry about only two things: the name of the element and its value. The element’s name can be easily determined by looking at the source code and finding the name attribute. The value can sometimes be trickier, as it might be populated by JavaScript immediately before form submission. Color pickers, as an example of a fairly exotic form field, will likely have a value of something like #F03030.\n"
      ],
      "metadata": {
        "id": "ljCCTreTWHiS"
      }
    },
    {
      "cell_type": "markdown",
      "source": [
        "Submitting Files and Images\n",
        "\n",
        "An example of a form to upload a file is https://pythonscraping.com/files/form2.html\n",
        "\n",
        "Code to upload is"
      ],
      "metadata": {
        "id": "y3NIR5_lWvSW"
      }
    },
    {
      "cell_type": "code",
      "source": [
        "import requests\n",
        "files={'uploadFile': open('files/python.png','rb')}\n",
        "r=requests.post('https://pythonscraping.com/pages/files/processing2.php', files=files)\n",
        "print(r.text)"
      ],
      "metadata": {
        "id": "ID2NbXnIXL8L"
      },
      "execution_count": null,
      "outputs": []
    },
    {
      "cell_type": "markdown",
      "source": [
        "Handling Logins and Cookies\n",
        "\n",
        "Most modern websites use cookies to keep track of who is logged in and who is not. After a site authenticates your login credintials, it stores them in your browser's cookie, which usually contains a server-generated token, time-out and tracking information. The site then uses this cookie as a sort of proof of authentication, which is shown to each page you visit during your time on the site. \n",
        "\n",
        "There is a simple login form at https://pythonscraping.com/pages/cookies/login.html (the username can be anything, but the password must be “password”). This form is processed at https://pythonscraping.com/pages/cookies/welcome.php, which contains a link to the main page, https://pythonscraping.com/pages/cookies/profile.php.\n",
        "\n",
        "(Start from here: Reason of error, https and welcome.php)"
      ],
      "metadata": {
        "id": "wh9SUb2UX76W"
      }
    },
    {
      "cell_type": "code",
      "source": [
        "#Website is https://pythonscraping.com/pages/cookies/login.html\n",
        "import requests\n",
        "params={'username':'AAA', 'password':'password'}\n",
        "r=requests.post('https://pythonscraping.com/pages/cookies/welcome.php',params) #Changed 'login.html' to 'welcome.php' and 'http' to 'https'\n",
        "print ('Cookie is set to')\n",
        "print(r.cookies.get_dict())\n",
        "print('Going to profile page')\n",
        "r=requests.get('https://pythonscraping.com/pages/cookies/welcome.php',cookies=r.cookies)\n",
        "print(r.text)"
      ],
      "metadata": {
        "colab": {
          "base_uri": "https://localhost:8080/"
        },
        "id": "crFMtGFKZL4Z",
        "outputId": "c61e26af-8da9-4752-a81d-7fed00c4d188"
      },
      "execution_count": null,
      "outputs": [
        {
          "output_type": "stream",
          "name": "stdout",
          "text": [
            "Cookie is set to\n",
            "{'loggedin': '1', 'username': 'AAA'}\n",
            "Going to profile page\n",
            "\n",
            "<h2>Welcome to the Website!</h2>\n",
            "You have logged in successfully! <br><a href=\"profile.php\">Check out your profile!</a>\n"
          ]
        }
      ]
    },
    {
      "cell_type": "markdown",
      "source": [
        "#HTTP Basic Access Authentication\n",
        "\n",
        "Website is https://pythonscraping.com/pages/auth/login.php\n",
        "USername is any user name and password is 'password'"
      ],
      "metadata": {
        "id": "lYQn143gFoHy"
      }
    },
    {
      "cell_type": "code",
      "source": [
        "import requests\n",
        "from requests.auth import AuthBase\n",
        "from requests.auth import HTTPBasicAuth\n",
        "auth=HTTPBasicAuth('names', 'password')\n",
        "r=requests.post(url='https://pythonscraping.com/pages/auth/login.php', auth=auth)\n",
        "print(r.text)"
      ],
      "metadata": {
        "colab": {
          "base_uri": "https://localhost:8080/"
        },
        "id": "kzaBYiTzGNMh",
        "outputId": "48c6f6d1-b9c3-467b-9329-bf78ca966bc2"
      },
      "execution_count": null,
      "outputs": [
        {
          "output_type": "stream",
          "name": "stdout",
          "text": [
            "<p>Hello names.</p><p>You entered password as your password.</p>\n"
          ]
        }
      ]
    }
  ]
}